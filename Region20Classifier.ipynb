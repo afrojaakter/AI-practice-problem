{
  "nbformat": 4,
  "nbformat_minor": 0,
  "metadata": {
    "colab": {
      "name": "Region20Classifier.ipynb",
      "provenance": [],
      "authorship_tag": "ABX9TyMwWuJ5vFsTGrXjQ/cP/LI/",
      "include_colab_link": true
    },
    "kernelspec": {
      "name": "python3",
      "display_name": "Python 3"
    },
    "language_info": {
      "name": "python"
    }
  },
  "cells": [
    {
      "cell_type": "markdown",
      "metadata": {
        "id": "view-in-github",
        "colab_type": "text"
      },
      "source": [
        "<a href=\"https://colab.research.google.com/github/afrojaakter/AI-practice-problem/blob/main/Region20Classifier.ipynb\" target=\"_parent\"><img src=\"https://colab.research.google.com/assets/colab-badge.svg\" alt=\"Open In Colab\"/></a>"
      ]
    },
    {
      "cell_type": "code",
      "metadata": {
        "colab": {
          "base_uri": "https://localhost:8080/",
          "height": 269
        },
        "id": "9mBxZVM9BbBD",
        "outputId": "0ecbb0b7-f731-4154-8002-99c6c28a5f93"
      },
      "source": [
        "import numpy as np\n",
        "import matplotlib.pyplot as plt\n",
        "\n",
        "N = 20\n",
        "M = 200\n",
        "points = np.random.rand(N,2)\n",
        "\n",
        "X,Y = np.meshgrid(np.linspace(0,1,M), np.linspace(0,1,M))\n",
        "\n",
        "Z = np.zeros([M,M])\n",
        "\n",
        "for i in range (M):\n",
        "  for j in range (M):\n",
        "    minDist = 1000000\n",
        "    minIdx = -1\n",
        "    for k in range(N):\n",
        "      x = X[i,j]\n",
        "      y = Y[i,j]\n",
        "      d = (x-points[k,0])**2 + (y-points[k,1])**2\n",
        "      if d < minDist:\n",
        "        minDist = d\n",
        "        minIdx = k\n",
        "      Z[i,j] = minIdx\n",
        "\n",
        "plt.pcolor(X,Y,Z)\n",
        "plt.show()"
      ],
      "execution_count": null,
      "outputs": [
        {
          "output_type": "display_data",
          "data": {
            "image/png": "[encoded data removed]",
            "text/plain": [
              "<Figure size 432x288 with 1 Axes>"
            ]
          },
          "metadata": {
            "needs_background": "light"
          }
        }
      ]
    },
    {
      "cell_type": "code",
      "metadata": {
        "colab": {
          "base_uri": "https://localhost:8080/"
        },
        "id": "kEBxRKhUihll",
        "outputId": "6d5819c1-2f03-4f3c-ce2b-a1669818a101"
      },
      "source": [
        "df_inputs = np.vstack([X.ravel(), Y.ravel()]).T\n",
        "\n",
        "df_labels = Z.ravel()\n",
        "df_labels = df_labels.reshape(-1,1)\n",
        "\n",
        "df_inputs.shape, df_labels.shape"
      ],
      "execution_count": null,
      "outputs": [
        {
          "output_type": "execute_result",
          "data": {
            "text/plain": [
              "((40000, 2), (40000, 1))"
            ]
          },
          "metadata": {},
          "execution_count": 21
        }
      ]
    },
    {
      "cell_type": "code",
      "metadata": {
        "id": "uZ17WX5ymWva"
      },
      "source": [
        "from sklearn.model_selection import train_test_split\n",
        "\n",
        "X_train, test_inputs, y_train, test_labels = train_test_split(df_inputs, df_labels, test_size=0.33, random_state=42)\n",
        "\n",
        "train_inputs, valid_inputs, train_labels, valid_labels = train_test_split(X_train, y_train, test_size=0.2, random_state=42)"
      ],
      "execution_count": null,
      "outputs": []
    },
    {
      "cell_type": "code",
      "metadata": {
        "colab": {
          "base_uri": "https://localhost:8080/"
        },
        "id": "AlN-RChqnK_i",
        "outputId": "67fed588-1297-43b8-c930-9265558f3cce"
      },
      "source": [
        "import tensorflow as tf\n",
        "from tensorflow import keras\n",
        "from keras import layers, models, Sequential\n",
        "import os\n",
        "\n",
        "model = Sequential([\n",
        "                    layers.Dense(6, activation='relu'),\n",
        "                    layers.Dense(N, activation = 'softmax')\n",
        "])\n",
        "\n",
        "model.compile(loss='sparse_categorical_crossentropy', optimizer='adam', metrics =['accuracy'])\n",
        "epochs = 50\n",
        "checkpoint_path = \"training_1/cp.ckpt\"\n",
        "checkpoint_dir = os.path.dirname(checkpoint_path)\n",
        "\n",
        "# Create a callback that saves the model's weights\n",
        "cp_callback = tf.keras.callbacks.ModelCheckpoint(filepath=checkpoint_path,\n",
        "                                                 save_best_only=True, \n",
        "                                                 save_weights_only=True,\n",
        "                                                 verbose=1)\n",
        "history = model.fit(train_inputs,\n",
        "           train_labels,\n",
        "           epochs= epochs,\n",
        "           batch_size= 32,\n",
        "           validation_data= (valid_inputs, valid_labels),\n",
        "           callbacks=[cp_callback])"
      ],
      "execution_count": null,
      "outputs": [
        {
          "output_type": "stream",
          "name": "stdout",
          "text": [
            "Epoch 1/50\n",
            "670/670 [==============================] - 1s 2ms/step - loss: 2.7658 - accuracy: 0.0958 - val_loss: 2.5163 - val_accuracy: 0.1190\n",
            "\n",
            "Epoch 00001: val_loss improved from inf to 2.51634, saving model to training_1/cp.ckpt\n",
            "Epoch 2/50\n",
            "670/670 [==============================] - 1s 1ms/step - loss: 2.3023 - accuracy: 0.2360 - val_loss: 2.0903 - val_accuracy: 0.3924\n",
            "\n",
            "Epoch 00002: val_loss improved from 2.51634 to 2.09032, saving model to training_1/cp.ckpt\n",
            "Epoch 3/50\n",
            "670/670 [==============================] - 1s 1ms/step - loss: 1.9377 - accuracy: 0.4042 - val_loss: 1.7786 - val_accuracy: 0.4438\n",
            "\n",
            "Epoch 00003: val_loss improved from 2.09032 to 1.77856, saving model to training_1/cp.ckpt\n",
            "Epoch 4/50\n",
            "670/670 [==============================] - 1s 1ms/step - loss: 1.6617 - accuracy: 0.4761 - val_loss: 1.5351 - val_accuracy: 0.5241\n",
            "\n",
            "Epoch 00004: val_loss improved from 1.77856 to 1.53513, saving model to training_1/cp.ckpt\n",
            "Epoch 5/50\n",
            "670/670 [==============================] - 1s 1ms/step - loss: 1.4379 - accuracy: 0.5527 - val_loss: 1.3350 - val_accuracy: 0.5815\n",
            "\n",
            "Epoch 00005: val_loss improved from 1.53513 to 1.33498, saving model to training_1/cp.ckpt\n",
            "Epoch 6/50\n",
            "670/670 [==============================] - 1s 2ms/step - loss: 1.2559 - accuracy: 0.6210 - val_loss: 1.1734 - val_accuracy: 0.6511\n",
            "\n",
            "Epoch 00006: val_loss improved from 1.33498 to 1.17340, saving model to training_1/cp.ckpt\n",
            "Epoch 7/50\n",
            "670/670 [==============================] - 1s 1ms/step - loss: 1.1096 - accuracy: 0.6779 - val_loss: 1.0419 - val_accuracy: 0.7004\n",
            "\n",
            "Epoch 00007: val_loss improved from 1.17340 to 1.04191, saving model to training_1/cp.ckpt\n",
            "Epoch 8/50\n",
            "670/670 [==============================] - 1s 2ms/step - loss: 0.9891 - accuracy: 0.7239 - val_loss: 0.9365 - val_accuracy: 0.7325\n",
            "\n",
            "Epoch 00008: val_loss improved from 1.04191 to 0.93652, saving model to training_1/cp.ckpt\n",
            "Epoch 9/50\n",
            "670/670 [==============================] - 1s 1ms/step - loss: 0.8929 - accuracy: 0.7560 - val_loss: 0.8516 - val_accuracy: 0.7754\n",
            "\n",
            "Epoch 00009: val_loss improved from 0.93652 to 0.85159, saving model to training_1/cp.ckpt\n",
            "Epoch 10/50\n",
            "670/670 [==============================] - 1s 1ms/step - loss: 0.8170 - accuracy: 0.7837 - val_loss: 0.7841 - val_accuracy: 0.7864\n",
            "\n",
            "Epoch 00010: val_loss improved from 0.85159 to 0.78414, saving model to training_1/cp.ckpt\n",
            "Epoch 11/50\n",
            "670/670 [==============================] - 1s 1ms/step - loss: 0.7551 - accuracy: 0.8026 - val_loss: 0.7284 - val_accuracy: 0.8168\n",
            "\n",
            "Epoch 00011: val_loss improved from 0.78414 to 0.72838, saving model to training_1/cp.ckpt\n",
            "Epoch 12/50\n",
            "670/670 [==============================] - 1s 1ms/step - loss: 0.7032 - accuracy: 0.8260 - val_loss: 0.6817 - val_accuracy: 0.8287\n",
            "\n",
            "Epoch 00012: val_loss improved from 0.72838 to 0.68172, saving model to training_1/cp.ckpt\n",
            "Epoch 13/50\n",
            "670/670 [==============================] - 1s 1ms/step - loss: 0.6597 - accuracy: 0.8409 - val_loss: 0.6407 - val_accuracy: 0.8537\n",
            "\n",
            "Epoch 00013: val_loss improved from 0.68172 to 0.64068, saving model to training_1/cp.ckpt\n",
            "Epoch 14/50\n",
            "670/670 [==============================] - 1s 2ms/step - loss: 0.6229 - accuracy: 0.8563 - val_loss: 0.6063 - val_accuracy: 0.8623\n",
            "\n",
            "Epoch 00014: val_loss improved from 0.64068 to 0.60629, saving model to training_1/cp.ckpt\n",
            "Epoch 15/50\n",
            "670/670 [==============================] - 1s 1ms/step - loss: 0.5910 - accuracy: 0.8661 - val_loss: 0.5768 - val_accuracy: 0.8728\n",
            "\n",
            "Epoch 00015: val_loss improved from 0.60629 to 0.57677, saving model to training_1/cp.ckpt\n",
            "Epoch 16/50\n",
            "670/670 [==============================] - 1s 1ms/step - loss: 0.5631 - accuracy: 0.8743 - val_loss: 0.5526 - val_accuracy: 0.8821\n",
            "\n",
            "Epoch 00016: val_loss improved from 0.57677 to 0.55258, saving model to training_1/cp.ckpt\n",
            "Epoch 17/50\n",
            "670/670 [==============================] - 1s 1ms/step - loss: 0.5393 - accuracy: 0.8824 - val_loss: 0.5283 - val_accuracy: 0.8840\n",
            "\n",
            "Epoch 00017: val_loss improved from 0.55258 to 0.52830, saving model to training_1/cp.ckpt\n",
            "Epoch 18/50\n",
            "670/670 [==============================] - 1s 1ms/step - loss: 0.5180 - accuracy: 0.8878 - val_loss: 0.5081 - val_accuracy: 0.8953\n",
            "\n",
            "Epoch 00018: val_loss improved from 0.52830 to 0.50807, saving model to training_1/cp.ckpt\n",
            "Epoch 19/50\n",
            "670/670 [==============================] - 1s 1ms/step - loss: 0.4990 - accuracy: 0.8915 - val_loss: 0.4915 - val_accuracy: 0.8946\n",
            "\n",
            "Epoch 00019: val_loss improved from 0.50807 to 0.49146, saving model to training_1/cp.ckpt\n",
            "Epoch 20/50\n",
            "670/670 [==============================] - 1s 1ms/step - loss: 0.4816 - accuracy: 0.8983 - val_loss: 0.4744 - val_accuracy: 0.9034\n",
            "\n",
            "Epoch 00020: val_loss improved from 0.49146 to 0.47442, saving model to training_1/cp.ckpt\n",
            "Epoch 21/50\n",
            "670/670 [==============================] - 1s 1ms/step - loss: 0.4662 - accuracy: 0.9004 - val_loss: 0.4610 - val_accuracy: 0.9043\n",
            "\n",
            "Epoch 00021: val_loss improved from 0.47442 to 0.46097, saving model to training_1/cp.ckpt\n",
            "Epoch 22/50\n",
            "670/670 [==============================] - 1s 1ms/step - loss: 0.4523 - accuracy: 0.9041 - val_loss: 0.4463 - val_accuracy: 0.9095\n",
            "\n",
            "Epoch 00022: val_loss improved from 0.46097 to 0.44632, saving model to training_1/cp.ckpt\n",
            "Epoch 23/50\n",
            "670/670 [==============================] - 1s 2ms/step - loss: 0.4397 - accuracy: 0.9083 - val_loss: 0.4340 - val_accuracy: 0.9155\n",
            "\n",
            "Epoch 00023: val_loss improved from 0.44632 to 0.43402, saving model to training_1/cp.ckpt\n",
            "Epoch 24/50\n",
            "670/670 [==============================] - 1s 1ms/step - loss: 0.4276 - accuracy: 0.9094 - val_loss: 0.4242 - val_accuracy: 0.9114\n",
            "\n",
            "Epoch 00024: val_loss improved from 0.43402 to 0.42417, saving model to training_1/cp.ckpt\n",
            "Epoch 25/50\n",
            "670/670 [==============================] - 1s 1ms/step - loss: 0.4165 - accuracy: 0.9123 - val_loss: 0.4127 - val_accuracy: 0.9155\n",
            "\n",
            "Epoch 00025: val_loss improved from 0.42417 to 0.41271, saving model to training_1/cp.ckpt\n",
            "Epoch 26/50\n",
            "670/670 [==============================] - 1s 2ms/step - loss: 0.4063 - accuracy: 0.9152 - val_loss: 0.4018 - val_accuracy: 0.9209\n",
            "\n",
            "Epoch 00026: val_loss improved from 0.41271 to 0.40179, saving model to training_1/cp.ckpt\n",
            "Epoch 27/50\n",
            "670/670 [==============================] - 1s 1ms/step - loss: 0.3969 - accuracy: 0.9179 - val_loss: 0.3935 - val_accuracy: 0.9229\n",
            "\n",
            "Epoch 00027: val_loss improved from 0.40179 to 0.39354, saving model to training_1/cp.ckpt\n",
            "Epoch 28/50\n",
            "670/670 [==============================] - 1s 2ms/step - loss: 0.3878 - accuracy: 0.9192 - val_loss: 0.3859 - val_accuracy: 0.9211\n",
            "\n",
            "Epoch 00028: val_loss improved from 0.39354 to 0.38587, saving model to training_1/cp.ckpt\n",
            "Epoch 29/50\n",
            "670/670 [==============================] - 1s 2ms/step - loss: 0.3794 - accuracy: 0.9220 - val_loss: 0.3771 - val_accuracy: 0.9257\n",
            "\n",
            "Epoch 00029: val_loss improved from 0.38587 to 0.37706, saving model to training_1/cp.ckpt\n",
            "Epoch 30/50\n",
            "670/670 [==============================] - 1s 2ms/step - loss: 0.3717 - accuracy: 0.9223 - val_loss: 0.3689 - val_accuracy: 0.9282\n",
            "\n",
            "Epoch 00030: val_loss improved from 0.37706 to 0.36890, saving model to training_1/cp.ckpt\n",
            "Epoch 31/50\n",
            "670/670 [==============================] - 1s 2ms/step - loss: 0.3643 - accuracy: 0.9237 - val_loss: 0.3610 - val_accuracy: 0.9285\n",
            "\n",
            "Epoch 00031: val_loss improved from 0.36890 to 0.36103, saving model to training_1/cp.ckpt\n",
            "Epoch 32/50\n",
            "670/670 [==============================] - 1s 2ms/step - loss: 0.3574 - accuracy: 0.9273 - val_loss: 0.3555 - val_accuracy: 0.9267\n",
            "\n",
            "Epoch 00032: val_loss improved from 0.36103 to 0.35545, saving model to training_1/cp.ckpt\n",
            "Epoch 33/50\n",
            "670/670 [==============================] - 1s 1ms/step - loss: 0.3509 - accuracy: 0.9275 - val_loss: 0.3479 - val_accuracy: 0.9358\n",
            "\n",
            "Epoch 00033: val_loss improved from 0.35545 to 0.34790, saving model to training_1/cp.ckpt\n",
            "Epoch 34/50\n",
            "670/670 [==============================] - 1s 1ms/step - loss: 0.3448 - accuracy: 0.9281 - val_loss: 0.3420 - val_accuracy: 0.9267\n",
            "\n",
            "Epoch 00034: val_loss improved from 0.34790 to 0.34199, saving model to training_1/cp.ckpt\n",
            "Epoch 35/50\n",
            "670/670 [==============================] - 1s 1ms/step - loss: 0.3388 - accuracy: 0.9293 - val_loss: 0.3371 - val_accuracy: 0.9308\n",
            "\n",
            "Epoch 00035: val_loss improved from 0.34199 to 0.33706, saving model to training_1/cp.ckpt\n",
            "Epoch 36/50\n",
            "670/670 [==============================] - 1s 1ms/step - loss: 0.3332 - accuracy: 0.9305 - val_loss: 0.3311 - val_accuracy: 0.9326\n",
            "\n",
            "Epoch 00036: val_loss improved from 0.33706 to 0.33113, saving model to training_1/cp.ckpt\n",
            "Epoch 37/50\n",
            "670/670 [==============================] - 1s 1ms/step - loss: 0.3281 - accuracy: 0.9309 - val_loss: 0.3260 - val_accuracy: 0.9336\n",
            "\n",
            "Epoch 00037: val_loss improved from 0.33113 to 0.32600, saving model to training_1/cp.ckpt\n",
            "Epoch 38/50\n",
            "670/670 [==============================] - 1s 1ms/step - loss: 0.3230 - accuracy: 0.9326 - val_loss: 0.3210 - val_accuracy: 0.9386\n",
            "\n",
            "Epoch 00038: val_loss improved from 0.32600 to 0.32096, saving model to training_1/cp.ckpt\n",
            "Epoch 39/50\n",
            "670/670 [==============================] - 1s 1ms/step - loss: 0.3184 - accuracy: 0.9334 - val_loss: 0.3157 - val_accuracy: 0.9379\n",
            "\n",
            "Epoch 00039: val_loss improved from 0.32096 to 0.31571, saving model to training_1/cp.ckpt\n",
            "Epoch 40/50\n",
            "670/670 [==============================] - 1s 1ms/step - loss: 0.3138 - accuracy: 0.9331 - val_loss: 0.3116 - val_accuracy: 0.9319\n",
            "\n",
            "Epoch 00040: val_loss improved from 0.31571 to 0.31156, saving model to training_1/cp.ckpt\n",
            "Epoch 41/50\n",
            "670/670 [==============================] - 1s 2ms/step - loss: 0.3096 - accuracy: 0.9356 - val_loss: 0.3066 - val_accuracy: 0.9396\n",
            "\n",
            "Epoch 00041: val_loss improved from 0.31156 to 0.30655, saving model to training_1/cp.ckpt\n",
            "Epoch 42/50\n",
            "670/670 [==============================] - 1s 1ms/step - loss: 0.3055 - accuracy: 0.9364 - val_loss: 0.3033 - val_accuracy: 0.9373\n",
            "\n",
            "Epoch 00042: val_loss improved from 0.30655 to 0.30331, saving model to training_1/cp.ckpt\n",
            "Epoch 43/50\n",
            "670/670 [==============================] - 1s 2ms/step - loss: 0.3015 - accuracy: 0.9373 - val_loss: 0.3013 - val_accuracy: 0.9371\n",
            "\n",
            "Epoch 00043: val_loss improved from 0.30331 to 0.30126, saving model to training_1/cp.ckpt\n",
            "Epoch 44/50\n",
            "670/670 [==============================] - 1s 1ms/step - loss: 0.2975 - accuracy: 0.9381 - val_loss: 0.2962 - val_accuracy: 0.9386\n",
            "\n",
            "Epoch 00044: val_loss improved from 0.30126 to 0.29620, saving model to training_1/cp.ckpt\n",
            "Epoch 45/50\n",
            "670/670 [==============================] - 1s 1ms/step - loss: 0.2938 - accuracy: 0.9382 - val_loss: 0.2921 - val_accuracy: 0.9396\n",
            "\n",
            "Epoch 00045: val_loss improved from 0.29620 to 0.29211, saving model to training_1/cp.ckpt\n",
            "Epoch 46/50\n",
            "670/670 [==============================] - 1s 1ms/step - loss: 0.2905 - accuracy: 0.9396 - val_loss: 0.2903 - val_accuracy: 0.9396\n",
            "\n",
            "Epoch 00046: val_loss improved from 0.29211 to 0.29027, saving model to training_1/cp.ckpt\n",
            "Epoch 47/50\n",
            "670/670 [==============================] - 1s 1ms/step - loss: 0.2870 - accuracy: 0.9399 - val_loss: 0.2853 - val_accuracy: 0.9431\n",
            "\n",
            "Epoch 00047: val_loss improved from 0.29027 to 0.28533, saving model to training_1/cp.ckpt\n",
            "Epoch 48/50\n",
            "670/670 [==============================] - 1s 1ms/step - loss: 0.2837 - accuracy: 0.9402 - val_loss: 0.2820 - val_accuracy: 0.9425\n",
            "\n",
            "Epoch 00048: val_loss improved from 0.28533 to 0.28199, saving model to training_1/cp.ckpt\n",
            "Epoch 49/50\n",
            "670/670 [==============================] - 1s 2ms/step - loss: 0.2806 - accuracy: 0.9414 - val_loss: 0.2796 - val_accuracy: 0.9399\n",
            "\n",
            "Epoch 00049: val_loss improved from 0.28199 to 0.27963, saving model to training_1/cp.ckpt\n",
            "Epoch 50/50\n",
            "670/670 [==============================] - 1s 1ms/step - loss: 0.2778 - accuracy: 0.9407 - val_loss: 0.2758 - val_accuracy: 0.9407\n",
            "\n",
            "Epoch 00050: val_loss improved from 0.27963 to 0.27581, saving model to training_1/cp.ckpt\n"
          ]
        }
      ]
    },
    {
      "cell_type": "code",
      "metadata": {
        "colab": {
          "base_uri": "https://localhost:8080/"
        },
        "id": "6-5gCG5k8JvK",
        "outputId": "e4688662-7cde-4b58-e139-989119184867"
      },
      "source": [
        "#printing the weights and biases of each layer\n",
        "model.layers[1].get_weights()"
      ],
      "execution_count": null,
      "outputs": [
        {
          "output_type": "execute_result",
          "data": {
            "text/plain": [
              "[array([[ 3.67016244e+00, -6.27722645e+00, -3.51743507e+00,\n",
              "         -9.95062113e-01,  1.64490804e-01, -1.57071555e+00,\n",
              "         -1.78051755e-01, -8.75995219e-01,  1.43342507e+00,\n",
              "         -3.70478368e+00,  1.74458921e+00, -1.89789021e+00,\n",
              "          2.25148511e+00,  6.24881744e-01,  9.89607036e-01,\n",
              "          1.64585578e+00, -5.89856672e+00, -9.76712894e+00,\n",
              "          7.27118850e-01,  1.81080341e+00],\n",
              "        [-1.26856985e+01,  1.85672259e+00,  1.85575402e+00,\n",
              "          1.55830085e-02, -1.02095413e+00, -3.59926724e+00,\n",
              "         -1.24897718e+01,  1.98190403e+00, -1.92686977e+01,\n",
              "          1.62861633e+00, -3.61759424e+00,  4.52821940e-01,\n",
              "         -8.49155807e+00, -7.76997924e-01, -2.75150752e+00,\n",
              "          4.20285836e-02, -1.50204718e-01,  1.36569881e+00,\n",
              "         -2.76365137e+00, -3.95682311e+00],\n",
              "        [-7.46783733e+00, -1.37031043e+00,  9.05084252e-01,\n",
              "         -7.79256463e-01, -5.02998924e+00, -1.16615477e+01,\n",
              "         -5.22662401e+00,  2.31711674e+00, -9.07832050e+00,\n",
              "         -4.83739901e+00,  1.24407661e+00, -6.19827938e+00,\n",
              "          2.11383009e+00,  1.04851449e+00, -5.85810661e-01,\n",
              "          2.13160515e+00, -1.38600874e+01, -1.23646126e+01,\n",
              "         -1.53733754e+00,  1.15479422e+00],\n",
              "        [ 3.20900142e-01, -4.79551822e-01, -2.15936869e-01,\n",
              "         -2.71867484e-01,  1.14362061e-01, -4.53156173e-01,\n",
              "         -4.76200283e-02, -4.75141048e-01,  3.04144800e-01,\n",
              "          3.36564660e-01, -2.81982660e-01, -4.58686054e-01,\n",
              "          1.13659143e-01,  1.16255939e-01,  2.98721492e-01,\n",
              "          2.59860218e-01,  1.35041952e-01, -3.94059300e-01,\n",
              "         -2.28171587e-01,  2.12948024e-01],\n",
              "        [-1.49225836e+01,  2.79543900e+00,  2.88873005e+00,\n",
              "         -1.42943799e-01, -5.96390104e+00, -1.10562401e+01,\n",
              "         -1.73125610e+01,  2.96552062e+00, -9.46931171e+00,\n",
              "          6.92820907e-01, -4.48588341e-01, -3.43088722e+00,\n",
              "         -1.96256697e+00, -3.70562747e-02, -3.68577075e+00,\n",
              "          2.39804339e+00, -1.05346470e+01, -4.24425602e+00,\n",
              "         -7.62031412e+00, -5.73967600e+00],\n",
              "        [-3.12788606e+00,  7.38588870e-01, -7.57922590e-01,\n",
              "         -8.59379023e-02,  1.09575546e+00,  2.35317421e+00,\n",
              "          2.37316298e+00, -3.68104267e+00,  4.77730751e-01,\n",
              "          1.09615338e+00, -3.73283625e+00,  1.48275709e+00,\n",
              "         -5.55912685e+00, -2.19630766e+00, -4.02796924e-01,\n",
              "         -7.98892164e+00,  2.48401690e+00,  2.43588376e+00,\n",
              "          5.66301942e-01, -1.93695700e+00]], dtype=float32),\n",
              " array([ 4.4339767 , -2.3491125 , -4.227156  , -1.0966691 ,  0.5515769 ,\n",
              "         2.0093813 ,  1.926554  , -4.2001896 ,  3.859876  , -0.32285714,\n",
              "         0.58743006,  0.65907836,  0.8668317 , -0.9249948 ,  0.50219923,\n",
              "        -2.2498271 ,  1.618519  , -0.45320833,  0.7622057 ,  0.93536985],\n",
              "       dtype=float32)]"
            ]
          },
          "metadata": {},
          "execution_count": 25
        }
      ]
    },
    {
      "cell_type": "code",
      "metadata": {
        "colab": {
          "base_uri": "https://localhost:8080/",
          "height": 353
        },
        "id": "0pty6ne2q3zu",
        "outputId": "48d713b8-8503-4a1d-c106-ed4469934e3d"
      },
      "source": [
        "#plotting loss and accuracy\n",
        "acc = history.history['accuracy']\n",
        "val_acc = history.history['val_accuracy']\n",
        "\n",
        "loss = history.history['loss']\n",
        "val_loss = history.history['val_loss']\n",
        "\n",
        "epochs_range = range(epochs)\n",
        "plt.figure(figsize=(8,5))\n",
        "plt.subplot(1,2,1)\n",
        "plt.plot(epochs_range, acc, label='train accuracy')\n",
        "plt.plot(epochs_range, val_acc, label='validatoin accuracy')\n",
        "plt.legend(loc='lower right')\n",
        "plt.title('training and Validation Accuracy')\n",
        "\n",
        "plt.subplot(1,2,2)\n",
        "plt.plot(epochs_range, loss, label='train loss')\n",
        "plt.plot(epochs_range, val_loss, label='validatoin loss')\n",
        "plt.legend(loc='lower right')\n",
        "plt.title('training and Validation Loss')"
      ],
      "execution_count": null,
      "outputs": [
        {
          "output_type": "execute_result",
          "data": {
            "text/plain": [
              "Text(0.5, 1.0, 'training and Validation Loss')"
            ]
          },
          "metadata": {},
          "execution_count": 26
        },
        {
          "output_type": "display_data",
          "data": {
            "image/png": "[encoded data removed]",
            "text/plain": [
              "<Figure size 576x360 with 2 Axes>"
            ]
          },
          "metadata": {
            "needs_background": "light"
          }
        }
      ]
    },
    {
      "cell_type": "code",
      "metadata": {
        "colab": {
          "base_uri": "https://localhost:8080/"
        },
        "id": "a-t4Vwl4q8eQ",
        "outputId": "9f8bcf8b-f2c6-45eb-b9a0-332882a4af60"
      },
      "source": [
        "# few true test_labels and predicted labels\n",
        "preds = model.predict(test_inputs)\n",
        "test_preds = np.array([np.argmax(preds[i]) for i in range(preds.shape[0])])\n",
        "test_preds[:10], test_labels[:10].T"
      ],
      "execution_count": null,
      "outputs": [
        {
          "output_type": "execute_result",
          "data": {
            "text/plain": [
              "(array([15,  3, 13,  5, 13,  2, 11,  2,  9, 13]),\n",
              " array([[15., 18., 13.,  5., 13.,  2., 11.,  2.,  9., 13.]]))"
            ]
          },
          "metadata": {},
          "execution_count": 27
        }
      ]
    },
    {
      "cell_type": "code",
      "metadata": {
        "colab": {
          "base_uri": "https://localhost:8080/"
        },
        "id": "IdJuikZysWAg",
        "outputId": "f05032b3-1e40-4be8-9c80-75545e53eaea"
      },
      "source": [
        "count = 0\n",
        "for i in range(len(test_preds)):\n",
        "  if test_preds[i] == test_labels[i]:\n",
        "    count += 1\n",
        "print(\"prediction score on test data: {} %\".format(round(100*count/len(test_labels),2)))"
      ],
      "execution_count": null,
      "outputs": [
        {
          "output_type": "stream",
          "name": "stdout",
          "text": [
            "prediction score on test data: 94.3 %\n"
          ]
        }
      ]
    },
    {
      "cell_type": "code",
      "metadata": {
        "id": "ayloB396uWiu"
      },
      "source": [
        "\n",
        "X,Y = np.meshgrid(np.linspace(0,1,M), np.linspace(0,1,M))\n",
        "df = np.vstack([X.ravel(), Y.ravel()]).T\n",
        "\n",
        "preds = model.predict(df) \n",
        "Z_preds = np.array([np.argmax(preds[i]) for i in range(preds.shape[0])])\n",
        "\n",
        "Z_preds = Z_preds.reshape(M,M)"
      ],
      "execution_count": null,
      "outputs": []
    },
    {
      "cell_type": "code",
      "metadata": {
        "colab": {
          "base_uri": "https://localhost:8080/",
          "height": 269
        },
        "id": "hLckGJ1gvY7X",
        "outputId": "eaaa4c13-76fe-409d-e6a7-ce8a294a6a3d"
      },
      "source": [
        "plt.pcolor(X, Y, Z_preds)\n",
        "plt.show()"
      ],
      "execution_count": null,
      "outputs": [
        {
          "output_type": "display_data",
          "data": {
            "image/png": "[encoded data removed]",
            "text/plain": [
              "<Figure size 432x288 with 1 Axes>"
            ]
          },
          "metadata": {
            "needs_background": "light"
          }
        }
      ]
    },
    {
      "cell_type": "code",
      "metadata": {
        "colab": {
          "base_uri": "https://localhost:8080/",
          "height": 269
        },
        "id": "6uKOrJ7GwdpA",
        "outputId": "3febf9f3-78a7-4e94-cf81-58c5a556b7f6"
      },
      "source": [
        "plt.pcolor(X, Y, Z)\n",
        "plt.show()"
      ],
      "execution_count": null,
      "outputs": [
        {
          "output_type": "display_data",
          "data": {
            "image/png": "[encoded data removed]",
            "text/plain": [
              "<Figure size 432x288 with 1 Axes>"
            ]
          },
          "metadata": {
            "needs_background": "light"
          }
        }
      ]
    }
  ]
}